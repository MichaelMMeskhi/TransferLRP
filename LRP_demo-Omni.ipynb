{
 "cells": [
  {
   "cell_type": "code",
   "execution_count": 1,
   "metadata": {
    "colab": {
     "base_uri": "https://localhost:8080/",
     "height": 51
    },
    "colab_type": "code",
    "id": "XkiLweeHaJZd",
    "outputId": "0cbe4cef-d97c-41bb-b5c1-acb7365c2010"
   },
   "outputs": [
    {
     "name": "stdout",
     "output_type": "stream",
     "text": [
      "C:\\Users\\kisha\\Documents\\LRP_Demo\\python\n"
     ]
    }
   ],
   "source": [
    "%cd python"
   ]
  },
  {
   "cell_type": "markdown",
   "metadata": {
    "colab_type": "text",
    "id": "ZG3dXqhVO7aj"
   },
   "source": [
    "# Notebook to play around the different threshold, digits and methods"
   ]
  },
  {
   "cell_type": "code",
   "execution_count": 2,
   "metadata": {
    "colab": {},
    "colab_type": "code",
    "id": "OA6_OetwXRSi"
   },
   "outputs": [],
   "source": [
    "import matplotlib.pyplot as plt\n",
    "import time\n",
    "import numpy\n",
    "import numpy as np\n",
    "import importlib.util as imp\n",
    "if imp.find_spec(\"cupy\"): #use cupy for GPU support if available\n",
    "    import cupy\n",
    "    import cupy as np\n",
    "na = np.newaxis\n",
    "\n",
    "import model_io\n",
    "import data_io\n",
    "import render\n",
    "import PIL\n",
    "from PIL import Image as pImage\n",
    "# import cv2"
   ]
  },
  {
   "cell_type": "code",
   "execution_count": null,
   "metadata": {
    "colab": {
     "base_uri": "https://localhost:8080/",
     "height": 52
    },
    "colab_type": "code",
    "id": "m1tt2Q7mWU1-",
    "outputId": "0b67b827-aabc-4666-ba04-c0a78782950a"
   },
   "outputs": [],
   "source": [
    "#load a neural network, as well as the MNIST test data and some labels\n",
    "nn = model_io.read('../mnist_mlp-full.txt') # 99.16% prediction accuracy\n",
    "nn.drop_softmax_output_layer() #drop softnax output layer for analyses"
   ]
  },
  {
   "cell_type": "code",
   "execution_count": 3,
   "metadata": {
    "colab": {
     "base_uri": "https://localhost:8080/",
     "height": 52
    },
    "colab_type": "code",
    "id": "XYWI_0GkapL9",
    "outputId": "bfda7380-4797-4e1c-b367-74475837d8bc"
   },
   "outputs": [
    {
     "name": "stdout",
     "output_type": "stream",
     "text": [
      "loading plain text model from ../omniglot_mlp-Target.txt\n"
     ]
    },
    {
     "ename": "MemoryError",
     "evalue": "",
     "output_type": "error",
     "traceback": [
      "\u001b[1;31m---------------------------------------------------------------------------\u001b[0m",
      "\u001b[1;31mMemoryError\u001b[0m                               Traceback (most recent call last)",
      "\u001b[1;32m<ipython-input-3-da72200a04b6>\u001b[0m in \u001b[0;36m<module>\u001b[1;34m\u001b[0m\n\u001b[1;32m----> 1\u001b[1;33m \u001b[0mnn_target\u001b[0m \u001b[1;33m=\u001b[0m \u001b[0mmodel_io\u001b[0m\u001b[1;33m.\u001b[0m\u001b[0mread\u001b[0m\u001b[1;33m(\u001b[0m\u001b[1;34m'../omniglot_mlp-Target.txt'\u001b[0m\u001b[1;33m)\u001b[0m \u001b[1;31m# 99.16% prediction accuracy\u001b[0m\u001b[1;33m\u001b[0m\u001b[1;33m\u001b[0m\u001b[0m\n\u001b[0m\u001b[0;32m      2\u001b[0m \u001b[0mnn_target\u001b[0m\u001b[1;33m.\u001b[0m\u001b[0mdrop_softmax_output_layer\u001b[0m\u001b[1;33m(\u001b[0m\u001b[1;33m)\u001b[0m \u001b[1;31m#drop softnax output layer for analyses\u001b[0m\u001b[1;33m\u001b[0m\u001b[1;33m\u001b[0m\u001b[0m\n",
      "\u001b[1;32m~\\Documents\\LRP_Demo\\python\\model_io.py\u001b[0m in \u001b[0;36mread\u001b[1;34m(path, fmt)\u001b[0m\n\u001b[0;32m     93\u001b[0m         \u001b[0mfmt\u001b[0m \u001b[1;33m=\u001b[0m \u001b[0mos\u001b[0m\u001b[1;33m.\u001b[0m\u001b[0mpath\u001b[0m\u001b[1;33m.\u001b[0m\u001b[0msplitext\u001b[0m\u001b[1;33m(\u001b[0m\u001b[0mpath\u001b[0m\u001b[1;33m)\u001b[0m\u001b[1;33m[\u001b[0m\u001b[1;36m1\u001b[0m\u001b[1;33m]\u001b[0m\u001b[1;33m.\u001b[0m\u001b[0mreplace\u001b[0m\u001b[1;33m(\u001b[0m\u001b[1;34m'.'\u001b[0m\u001b[1;33m,\u001b[0m\u001b[1;34m''\u001b[0m\u001b[1;33m)\u001b[0m\u001b[1;33m.\u001b[0m\u001b[0mlower\u001b[0m\u001b[1;33m(\u001b[0m\u001b[1;33m)\u001b[0m\u001b[1;33m\u001b[0m\u001b[1;33m\u001b[0m\u001b[0m\n\u001b[0;32m     94\u001b[0m \u001b[1;33m\u001b[0m\u001b[0m\n\u001b[1;32m---> 95\u001b[1;33m     \u001b[0mmodel\u001b[0m \u001b[1;33m=\u001b[0m \u001b[0m_read_as\u001b[0m\u001b[1;33m[\u001b[0m\u001b[0mfmt\u001b[0m\u001b[1;33m]\u001b[0m\u001b[1;33m(\u001b[0m\u001b[0mpath\u001b[0m\u001b[1;33m)\u001b[0m\u001b[1;33m\u001b[0m\u001b[1;33m\u001b[0m\u001b[0m\n\u001b[0m\u001b[0;32m     96\u001b[0m     \u001b[1;32mif\u001b[0m \u001b[0mimp\u001b[0m\u001b[1;33m.\u001b[0m\u001b[0mfind_spec\u001b[0m\u001b[1;33m(\u001b[0m\u001b[1;34m\"cupy\"\u001b[0m\u001b[1;33m)\u001b[0m\u001b[1;33m:\u001b[0m\u001b[1;33m\u001b[0m\u001b[1;33m\u001b[0m\u001b[0m\n\u001b[0;32m     97\u001b[0m         \u001b[0mmodel\u001b[0m\u001b[1;33m.\u001b[0m\u001b[0mto_cupy\u001b[0m\u001b[1;33m(\u001b[0m\u001b[1;33m)\u001b[0m\u001b[1;33m\u001b[0m\u001b[1;33m\u001b[0m\u001b[0m\n",
      "\u001b[1;32m~\\Documents\\LRP_Demo\\python\\model_io.py\u001b[0m in \u001b[0;36m_read_txt\u001b[1;34m(path)\u001b[0m\n\u001b[0;32m    192\u001b[0m \u001b[1;33m\u001b[0m\u001b[0m\n\u001b[0;32m    193\u001b[0m     \u001b[1;32mtry\u001b[0m\u001b[1;33m:\u001b[0m\u001b[1;33m\u001b[0m\u001b[1;33m\u001b[0m\u001b[0m\n\u001b[1;32m--> 194\u001b[1;33m         \u001b[1;32mreturn\u001b[0m \u001b[0m_read_txt_helper\u001b[0m\u001b[1;33m(\u001b[0m\u001b[0mpath\u001b[0m\u001b[1;33m)\u001b[0m\u001b[1;33m\u001b[0m\u001b[1;33m\u001b[0m\u001b[0m\n\u001b[0m\u001b[0;32m    195\u001b[0m \u001b[1;33m\u001b[0m\u001b[0m\n\u001b[0;32m    196\u001b[0m     \u001b[1;32mexcept\u001b[0m \u001b[0mValueError\u001b[0m \u001b[1;32mas\u001b[0m \u001b[0me\u001b[0m\u001b[1;33m:\u001b[0m\u001b[1;33m\u001b[0m\u001b[1;33m\u001b[0m\u001b[0m\n",
      "\u001b[1;32m~\\Documents\\LRP_Demo\\python\\model_io.py\u001b[0m in \u001b[0;36m_read_txt_helper\u001b[1;34m(path)\u001b[0m\n\u001b[0;32m    127\u001b[0m                     \u001b[0m_\u001b[0m\u001b[1;33m,\u001b[0m\u001b[0mm\u001b[0m\u001b[1;33m,\u001b[0m\u001b[0mn\u001b[0m \u001b[1;33m=\u001b[0m \u001b[0mline\u001b[0m\u001b[1;33m.\u001b[0m\u001b[0msplit\u001b[0m\u001b[1;33m(\u001b[0m\u001b[1;33m)\u001b[0m\u001b[1;33m;\u001b[0m   \u001b[0mm\u001b[0m \u001b[1;33m=\u001b[0m \u001b[0mint\u001b[0m\u001b[1;33m(\u001b[0m\u001b[0mm\u001b[0m\u001b[1;33m)\u001b[0m\u001b[1;33m;\u001b[0m \u001b[0mn\u001b[0m \u001b[1;33m=\u001b[0m \u001b[0mint\u001b[0m\u001b[1;33m(\u001b[0m\u001b[0mn\u001b[0m\u001b[1;33m)\u001b[0m\u001b[1;33m\u001b[0m\u001b[1;33m\u001b[0m\u001b[0m\n\u001b[0;32m    128\u001b[0m                     \u001b[0mlayer\u001b[0m \u001b[1;33m=\u001b[0m \u001b[0mLinear\u001b[0m\u001b[1;33m(\u001b[0m\u001b[0mm\u001b[0m\u001b[1;33m,\u001b[0m\u001b[0mn\u001b[0m\u001b[1;33m)\u001b[0m\u001b[1;33m\u001b[0m\u001b[1;33m\u001b[0m\u001b[0m\n\u001b[1;32m--> 129\u001b[1;33m                     \u001b[0mlayer\u001b[0m\u001b[1;33m.\u001b[0m\u001b[0mW\u001b[0m \u001b[1;33m=\u001b[0m \u001b[0mnp\u001b[0m\u001b[1;33m.\u001b[0m\u001b[0marray\u001b[0m\u001b[1;33m(\u001b[0m\u001b[1;33m[\u001b[0m\u001b[0mfloat\u001b[0m\u001b[1;33m(\u001b[0m\u001b[0mweightstring\u001b[0m\u001b[1;33m)\u001b[0m \u001b[1;32mfor\u001b[0m \u001b[0mweightstring\u001b[0m \u001b[1;32min\u001b[0m \u001b[0mcontent\u001b[0m\u001b[1;33m[\u001b[0m\u001b[0mc\u001b[0m\u001b[1;33m+\u001b[0m\u001b[1;36m1\u001b[0m\u001b[1;33m]\u001b[0m\u001b[1;33m.\u001b[0m\u001b[0msplit\u001b[0m\u001b[1;33m(\u001b[0m\u001b[1;33m)\u001b[0m \u001b[1;32mif\u001b[0m \u001b[0mlen\u001b[0m\u001b[1;33m(\u001b[0m\u001b[0mweightstring\u001b[0m\u001b[1;33m)\u001b[0m \u001b[1;33m>\u001b[0m \u001b[1;36m0\u001b[0m\u001b[1;33m]\u001b[0m\u001b[1;33m)\u001b[0m\u001b[1;33m.\u001b[0m\u001b[0mreshape\u001b[0m\u001b[1;33m(\u001b[0m\u001b[1;33m(\u001b[0m\u001b[0mm\u001b[0m\u001b[1;33m,\u001b[0m\u001b[0mn\u001b[0m\u001b[1;33m)\u001b[0m\u001b[1;33m)\u001b[0m\u001b[1;33m\u001b[0m\u001b[1;33m\u001b[0m\u001b[0m\n\u001b[0m\u001b[0;32m    130\u001b[0m                     \u001b[0mlayer\u001b[0m\u001b[1;33m.\u001b[0m\u001b[0mB\u001b[0m \u001b[1;33m=\u001b[0m \u001b[0mnp\u001b[0m\u001b[1;33m.\u001b[0m\u001b[0marray\u001b[0m\u001b[1;33m(\u001b[0m\u001b[1;33m[\u001b[0m\u001b[0mfloat\u001b[0m\u001b[1;33m(\u001b[0m\u001b[0mweightstring\u001b[0m\u001b[1;33m)\u001b[0m \u001b[1;32mfor\u001b[0m \u001b[0mweightstring\u001b[0m \u001b[1;32min\u001b[0m \u001b[0mcontent\u001b[0m\u001b[1;33m[\u001b[0m\u001b[0mc\u001b[0m\u001b[1;33m+\u001b[0m\u001b[1;36m2\u001b[0m\u001b[1;33m]\u001b[0m\u001b[1;33m.\u001b[0m\u001b[0msplit\u001b[0m\u001b[1;33m(\u001b[0m\u001b[1;33m)\u001b[0m \u001b[1;32mif\u001b[0m \u001b[0mlen\u001b[0m\u001b[1;33m(\u001b[0m\u001b[0mweightstring\u001b[0m\u001b[1;33m)\u001b[0m \u001b[1;33m>\u001b[0m \u001b[1;36m0\u001b[0m\u001b[1;33m]\u001b[0m\u001b[1;33m)\u001b[0m\u001b[1;33m\u001b[0m\u001b[1;33m\u001b[0m\u001b[0m\n\u001b[0;32m    131\u001b[0m                     \u001b[0mmodules\u001b[0m\u001b[1;33m.\u001b[0m\u001b[0mappend\u001b[0m\u001b[1;33m(\u001b[0m\u001b[0mlayer\u001b[0m\u001b[1;33m)\u001b[0m\u001b[1;33m\u001b[0m\u001b[1;33m\u001b[0m\u001b[0m\n",
      "\u001b[1;31mMemoryError\u001b[0m: "
     ]
    }
   ],
   "source": [
    "nn_target = model_io.read('../omniglot_mlp-Target.txt') # 99.16% prediction accuracy\n",
    "nn_target.drop_softmax_output_layer() #drop softnax output layer for analyses"
   ]
  },
  {
   "cell_type": "code",
   "execution_count": null,
   "metadata": {
    "colab": {
     "base_uri": "https://localhost:8080/",
     "height": 52
    },
    "colab_type": "code",
    "id": "BBtiZNDGWvM2",
    "outputId": "d5daef43-b37d-45b5-b360-4f39daad4cf7"
   },
   "outputs": [],
   "source": [
    "Xtrain, Ytrain, Xtest, Ytest = data_io.readDataFromFolder(\"../data/omniglot/Asomtavruli_(Georgian)/\")"
   ]
  },
  {
   "cell_type": "code",
   "execution_count": null,
   "metadata": {
    "colab": {},
    "colab_type": "code",
    "id": "Ir0SjAOnWyoc"
   },
   "outputs": [],
   "source": [
    "X = Xtest\n",
    "Y = Ytest"
   ]
  },
  {
   "cell_type": "code",
   "execution_count": null,
   "metadata": {
    "colab": {},
    "colab_type": "code",
    "id": "QjwbRd2FW0jd"
   },
   "outputs": [],
   "source": [
    "# transfer pixel values from [0 255] to [-1 1] to satisfy the expected input / training paradigm of the model\n",
    "X =  X / 127.5 - 1"
   ]
  },
  {
   "cell_type": "code",
   "execution_count": null,
   "metadata": {
    "colab": {},
    "colab_type": "code",
    "id": "KNjQvbjkW2Pw"
   },
   "outputs": [],
   "source": [
    "# transform numeric class labels to vector indicator for uniformity. assume presence of all classes within the label set\n",
    "I = Y[:,0].astype(int)\n",
    "Y = np.zeros([X.shape[0],np.unique(Y).size])\n",
    "Y[np.arange(Y.shape[0]),I] = 1"
   ]
  },
  {
   "cell_type": "code",
   "execution_count": null,
   "metadata": {
    "colab": {
     "base_uri": "https://localhost:8080/",
     "height": 35
    },
    "colab_type": "code",
    "id": "IIBBRTNVW4tU",
    "outputId": "9f5eae3a-1973-4dd4-8132-885e414058b0"
   },
   "outputs": [],
   "source": [
    "# acc = np.mean(np.argmax(nn.forward(X), axis=1) == np.argmax(Y, axis=1))\n",
    "# if not np == numpy: # np=cupy\n",
    "#     acc = np.asnumpy(acc)\n",
    "# print('model test accuracy is: {:0.4f}'.format(acc))"
   ]
  },
  {
   "cell_type": "code",
   "execution_count": null,
   "metadata": {
    "colab": {},
    "colab_type": "code",
    "id": "0-YvNE-tZScj"
   },
   "outputs": [],
   "source": [
    "#permute data order for demonstration. or not. your choice.\n",
    "I = np.arange(X.shape[0])\n",
    "#I = np.random.permutation(I)"
   ]
  },
  {
   "cell_type": "code",
   "execution_count": null,
   "metadata": {
    "colab": {},
    "colab_type": "code",
    "id": "h0Almgbcbv_h"
   },
   "outputs": [],
   "source": [
    "#Select a Digit between 5-9\n",
    "digit = 5\n",
    "for i in I:\n",
    "  if np.argmax(Y[i])+5 == digit:\n",
    "    break\n"
   ]
  },
  {
   "cell_type": "code",
   "execution_count": null,
   "metadata": {
    "colab": {
     "base_uri": "https://localhost:8080/",
     "height": 355
    },
    "colab_type": "code",
    "id": "PKicSDUvcEpR",
    "outputId": "2ed796ce-d56a-471c-f9e0-2811aa2760b1"
   },
   "outputs": [],
   "source": [
    "#Find Relevance using Base network\n",
    "\n",
    "x = X[na,i,:]\n",
    "\n",
    "image = pImage.fromarray(x, '1')\n",
    "image = image.resize((28, 28), PIL.Image.ANTIALIAS)\n",
    "x = np.array(image)\n",
    "x = np.reshape(x, (1, 784))\n",
    "\n",
    "#forward pass and prediction\n",
    "ypred = nn.forward(x)\n",
    "print('True label:     ', np.argmax(Y[i])+5)\n",
    "print('Predicted label:', np.argmax(ypred),'\\n')\n",
    "print('Prediction Score 0-4', ypred)\n",
    "\n",
    "#prepare initial relevance to reflect the model's dominant prediction (ie depopulate non-dominant output neurons)\n",
    "mask = np.zeros_like(ypred)\n",
    "mask[:,np.argmax(ypred)] = 1\n",
    "Rinit = ypred*mask\n",
    "\n",
    "R_base = []\n",
    "#compute first layer relevance according to prediction\n",
    "#R = nn.lrp(Rinit)                   #as Eq(56) from DOI: 10.1371/journal.pone.0130140\n",
    "    #as Eq(58) from DOI: 10.1371/journal.pone.0130140\n",
    "#R = nn.lrp(Rinit,'alphabeta',2)    #as Eq(60) from DOI: 10.1371/journal.pone.0130140\n",
    "lrp_type = [\"simple\", \"alphabeta\", \"epsilon\", \"ww\"]\n",
    "lrp_t = [1, 3, 0.01, 1]\n",
    "for k in range(len(lrp_type)):\n",
    "    R_base.append(nn.lrp(Rinit, lrp_type[k], lrp_t[k]))\n",
    "    \n",
    "    \n",
    "\n",
    "\n",
    "#R = nn.lrp(ypred*Y[na,i]) #compute first layer relevance according to the true class label\n",
    "''' \n",
    "yselect = 3\n",
    "yselect = (np.arange(Y.shape[1])[na,:] == yselect)*1.\n",
    "R = nn.lrp(ypred*yselect) #compute first layer relvance for an arbitrarily selected class\n",
    "'''\n",
    "\n",
    "#undo input normalization for digit drawing. get it back to range [0,1] per pixel\n",
    "x = (x+1.)/2.\n",
    "\n",
    "if not np == numpy: # np=cupy\n",
    "    x = np.asnumpy(x)\n",
    "    for k in range(len(lrp_type)):\n",
    "        R_base[k] = np.asnumpy(R_base[k])\n",
    "\n",
    "# print(len(R[0]))\n",
    "#render input and heatmap as rgb images\n",
    "digit = render.digit_to_rgb(x, scaling = 3)\n",
    "hm_base = []\n",
    "for k in range(len(lrp_type)):\n",
    "    hm_base.append(render.hm_to_rgb(R_base[k], X = x, scaling = 3, sigma = 2))\n",
    "#digit_hm = render.save_image([digit,hm],'../heatmap_base'+str(i)+'.png')\n",
    "# data_io.write(R,'../Base/heatmap_base'+str(i)+'.npy')\n",
    "\n",
    "# # display the image as written to file\n",
    "# plt.imshow(hm_base, interpolation = 'none')\n",
    "# plt.axis('off')\n",
    "# plt.show()"
   ]
  },
  {
   "cell_type": "code",
   "execution_count": null,
   "metadata": {
    "colab": {
     "base_uri": "https://localhost:8080/",
     "height": 355
    },
    "colab_type": "code",
    "id": "jf2VsvMTZVMO",
    "outputId": "b695313f-d256-45a5-c880-e02cff22354b",
    "scrolled": true
   },
   "outputs": [],
   "source": [
    "#Find Relevance using Target network\n",
    "\n",
    "x = X[na,i,:]\n",
    "\n",
    "#forward pass and prediction\n",
    "ypred = nn_target.forward(x)\n",
    "print('True label:     ', np.argmax(Y[i])+5)\n",
    "print('Predicted label:', np.argmax(ypred)+5,'\\n')\n",
    "print('Prediction Score 5-9', ypred)\n",
    "\n",
    "#prepare initial relevance to reflect the model's dominant prediction (ie depopulate non-dominant output neurons)\n",
    "mask = np.zeros_like(ypred)\n",
    "mask[:,np.argmax(ypred)] = 1\n",
    "Rinit = ypred*mask\n",
    "\n",
    "#compute first layer relevance according to prediction\n",
    "#R = nn.lrp(Rinit)                   #as Eq(56) from DOI: 10.1371/journal.pone.0130140\n",
    "# R_target_0 = nn_target.lrp(Rinit,'simple', 3, reset=0)    #as Eq(58) from DOI: 10.1371/journal.pone.0130140\n",
    "#R = nn.lrp(Rinit,'alphabeta',2)    #as Eq(60) from DOI: 10.1371/journal.pone.0130140\n",
    "# print(R_target)\n",
    "# print(max(R_target[0]), min(R_target[0]))\n",
    "reset_values = [0, 1, 2]\n",
    "R_target = {\"simple\":[], \"alphabeta\":[], \"epsilon\":[], \"ww\":[], \"flat\":[]}\n",
    "for k in range(len(lrp_type)):\n",
    "    for j in range(len(reset_values)):\n",
    "        R_target[lrp_type[k]].append(nn_target.lrp(Rinit, lrp_type[k], 3, reset_values[j]))\n",
    "        \n",
    "        \n",
    "\n",
    "#R = nn.lrp(ypred*Y[na,i]) #compute first layer relevance according to the true class label\n",
    "'''\n",
    "yselect = 3\n",
    "yselect = (np.arange(Y.shape[1])[na,:] == yselect)*1.\n",
    "R = nn.lrp(ypred*yselect) #compute first layer relvance for an arbitrarily selected class\n",
    "'''\n",
    "\n",
    "#undo input normalization for digit drawing. get it back to range [0,1] per pixel\n",
    "x = (x+1.)/2.\n",
    "\n",
    "if not np == numpy: # np=cupy\n",
    "    x = np.asnumpy(x)\n",
    "\n",
    "#render input and heatmap as rgb images\n",
    "digit = render.digit_to_rgb(x, scaling = 3)\n",
    "hm_target = {\"simple\":[], \"alphabeta\":[], \"epsilon\":[], \"ww\":[], \"flat\":[]}\n",
    "for k in range(len(lrp_type)):\n",
    "    for j in range(len(reset_values)):\n",
    "        hm_target[lrp_type[k]].append(render.hm_to_rgb(R_target[lrp_type[k]][j], X = x, scaling = 3, sigma = 2))\n",
    "        \n",
    "#digit_hm = render.save_image([digit,hm],'../heatmap_base'+str(i)+'.png')\n",
    "# data_io.write(R,'../Base/heatmap_base'+str(i)+'.npy')\n",
    "\n",
    "# #display the image as written to file\n",
    "# plt.imshow(hm_target, interpolation = 'none')\n",
    "# plt.axis('off')\n",
    "# plt.show()"
   ]
  },
  {
   "cell_type": "code",
   "execution_count": null,
   "metadata": {
    "colab": {},
    "colab_type": "code",
    "id": "yf6KDnweiZNj"
   },
   "outputs": [],
   "source": [
    "for i in range(len(lrp_type)):\n",
    "    R_base[i] = R_base[i][0]\n",
    "\n",
    "for i in range(len(lrp_type)):\n",
    "    for j in range(len(reset_values)):\n",
    "        R_target[lrp_type[i]][j] = R_target[lrp_type[i]][j][0]"
   ]
  },
  {
   "cell_type": "code",
   "execution_count": null,
   "metadata": {
    "colab": {
     "base_uri": "https://localhost:8080/",
     "height": 615
    },
    "colab_type": "code",
    "id": "HIVMJJJZdr2P",
    "outputId": "b8382c1f-7ceb-4d96-f41d-56d29435e3a4",
    "scrolled": true
   },
   "outputs": [],
   "source": [
    "# Overlap Image\n",
    "# r, g, b = cv2.split(hm)\n",
    "# r2, g2, b2 = cv2.split(hm_target)\n",
    "\n",
    "# t = 0.7\n",
    "\n",
    "# threshold1 = max(R) * t\n",
    "# threshold2 = max(R_target) * t\n",
    "\n",
    "\n",
    "# #Dynamic threshold\n",
    "# tmp = np.where(R > 0.1)\n",
    "# threshold1 = np.mean(R[tmp])\n",
    "\n",
    "# tmp = np.where(R_target > 0.1)\n",
    "# threshold2 = np.mean(R_target[tmp])\n",
    "\n",
    "#Top how many percent\n",
    "t = 5\n",
    "\n",
    "hm_overlap = []\n",
    "for i in range(len(lrp_type)):\n",
    "    for j in range(len(reset_values)):\n",
    "        target = int(784 - 7.84*t)\n",
    "        threshold1 = np.partition(R_base[i], target)[target]\n",
    "        threshold2 = np.partition(R_target[lrp_type[i]][j], target)[target]\n",
    "\n",
    "        indices1 = np.where(R_base[i] > threshold1)\n",
    "\n",
    "        indices2 = np.where(R_target[lrp_type[i]][j] > threshold2)\n",
    "\n",
    "\n",
    "        common_red = np.intersect1d(indices1, indices2)\n",
    "        \n",
    "        R_overlap = np.zeros(784)\n",
    "        R_overlap[common_red] = 10 \n",
    "\n",
    "\n",
    "        target = int(7.84*t)\n",
    "        threshold1 = np.partition(R_base[i], target)[target]\n",
    "        threshold2 = np.partition(R_target[lrp_type[i]][j], target)[target]\n",
    "\n",
    "        indices1 = np.where(R_base[i] < threshold1)\n",
    "\n",
    "        indices2 = np.where(R_target[lrp_type[i]] < threshold2)\n",
    "\n",
    "        common_blue = np.intersect1d(indices1, indices2)\n",
    "        \n",
    "        R_overlap[common_blue] = -10 \n",
    "\n",
    "        hm = render.hm_to_rgb(R_overlap, X = x, scaling = 3, sigma = 2)\n",
    "        hm_overlap.append(hm)\n",
    "        \n",
    "#digit_hm = render.save_image([digit,hm],'../heatmap_base'+str(i)+'.png')\n",
    "# data_io.write(R,'../Base/heatmap_base'+str(i)+'.npy')\n",
    "\n",
    "# #display the image as written to file\n",
    "# plt.imshow(hm_overlap, interpolation = 'none')\n",
    "# plt.axis('off')\n",
    "# plt.show()\n",
    "\n",
    "# plt.imshow(r2, interpolation = 'none')\n",
    "# plt.axis('off')\n",
    "# plt.show()\n"
   ]
  },
  {
   "cell_type": "code",
   "execution_count": null,
   "metadata": {
    "scrolled": false
   },
   "outputs": [],
   "source": [
    "\n",
    "fig, grid = plt.subplots(12, 3, figsize=(10,40)) \n",
    "print(\"Order is as follow - \")\n",
    "print(\"First 4 rows - simple LRP\")\n",
    "print(\" --------------- In that first column is always base model image\")\n",
    "print(\" --------------- In that first column is always target model image without reset\")\n",
    "\n",
    "for i in range(len(lrp_type)*3):\n",
    "    for j in range(3):\n",
    "        if(j==0):\n",
    "            image = hm_base[int(i/3)]\n",
    "        elif(j==2):\n",
    "            image = hm_overlap[i]\n",
    "        else:\n",
    "            image = hm_target[lrp_type[int(i/3)]][i%3]\n",
    "            \n",
    "        grid[i, j].imshow(image)\n",
    "        grid[i, j].axis('off')\n"
   ]
  }
 ],
 "metadata": {
  "accelerator": "GPU",
  "colab": {
   "name": "LRP_demo",
   "provenance": [],
   "version": "0.3.2"
  },
  "kernelspec": {
   "display_name": "Python 3",
   "language": "python",
   "name": "python3"
  },
  "language_info": {
   "codemirror_mode": {
    "name": "ipython",
    "version": 3
   },
   "file_extension": ".py",
   "mimetype": "text/x-python",
   "name": "python",
   "nbconvert_exporter": "python",
   "pygments_lexer": "ipython3",
   "version": "3.7.4"
  }
 },
 "nbformat": 4,
 "nbformat_minor": 1
}
