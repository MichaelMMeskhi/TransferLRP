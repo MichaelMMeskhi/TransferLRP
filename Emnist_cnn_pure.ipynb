{
 "cells": [
  {
   "cell_type": "code",
   "execution_count": 1,
   "metadata": {
    "colab": {
     "base_uri": "https://localhost:8080/",
     "height": 51
    },
    "colab_type": "code",
    "id": "XkiLweeHaJZd",
    "outputId": "0cbe4cef-d97c-41bb-b5c1-acb7365c2010"
   },
   "outputs": [
    {
     "name": "stdout",
     "output_type": "stream",
     "text": [
      "C:\\Users\\kisha\\Documents\\LRP_Demo\\python\n"
     ]
    }
   ],
   "source": [
    "%cd python"
   ]
  },
  {
   "cell_type": "markdown",
   "metadata": {
    "colab_type": "text",
    "id": "ZG3dXqhVO7aj"
   },
   "source": [
    "# Notebook to play around the different threshold, digits and methods"
   ]
  },
  {
   "cell_type": "code",
   "execution_count": 2,
   "metadata": {
    "colab": {},
    "colab_type": "code",
    "id": "OA6_OetwXRSi"
   },
   "outputs": [],
   "source": [
    "import matplotlib.pyplot as plt\n",
    "import time\n",
    "import numpy\n",
    "import numpy as np\n",
    "import importlib.util as imp\n",
    "if imp.find_spec(\"cupy\"): #use cupy for GPU support if available\n",
    "    import cupy\n",
    "    import cupy as np\n",
    "na = np.newaxis\n",
    "\n",
    "import model_io\n",
    "import data_io\n",
    "import render\n",
    "# import cv2\n",
    "import modules"
   ]
  },
  {
   "cell_type": "code",
   "execution_count": 3,
   "metadata": {},
   "outputs": [],
   "source": [
    "def convertPixels_to_XY(pixels, dim=2):\n",
    "    cord = []\n",
    "    for pixel in pixels:\n",
    "        y = pixel%32\n",
    "        x = int(pixel/32)\n",
    "        for i in range(3):\n",
    "            for j in range(3):\n",
    "                cord.append((3*x+i, 3*y+j))\n",
    "    return cord"
   ]
  },
  {
   "cell_type": "code",
   "execution_count": 4,
   "metadata": {
    "colab": {
     "base_uri": "https://localhost:8080/",
     "height": 52
    },
    "colab_type": "code",
    "id": "m1tt2Q7mWU1-",
    "outputId": "0b67b827-aabc-4666-ba04-c0a78782950a"
   },
   "outputs": [
    {
     "name": "stdout",
     "output_type": "stream",
     "text": [
      "loading pickled model from ../models/Emnist_cnn\n",
      "removing softmax output mapping\n"
     ]
    }
   ],
   "source": [
    "#load a neural network, as well as the MNIST test data and some labels\n",
    "nn = model_io.read('../models/Emnist_cnn', fmt=\"pickled\")\n",
    "nn.drop_softmax_output_layer() #drop softnax output layer for analyses"
   ]
  },
  {
   "cell_type": "code",
   "execution_count": 9,
   "metadata": {
    "colab": {
     "base_uri": "https://localhost:8080/",
     "height": 52
    },
    "colab_type": "code",
    "id": "BBtiZNDGWvM2",
    "outputId": "d5daef43-b37d-45b5-b360-4f39daad4cf7"
   },
   "outputs": [
    {
     "name": "stdout",
     "output_type": "stream",
     "text": [
      "loading np-formatted data from ../data/EMNIST/Emnist_test_images.npy\n",
      "loading np-formatted data from ../data/EMNIST/Emnist_test_labels.npy\n"
     ]
    }
   ],
   "source": [
    "X = data_io.read('../data/EMNIST/Emnist_test_images.npy')\n",
    "Y = data_io.read('../data/EMNIST/Emnist_test_labels.npy')\n",
    "X = np.array([x.T for x in X])"
   ]
  },
  {
   "cell_type": "code",
   "execution_count": 10,
   "metadata": {
    "colab": {},
    "colab_type": "code",
    "id": "QjwbRd2FW0jd"
   },
   "outputs": [],
   "source": [
    "# transfer pixel values from [0 255] to [-1 1] to satisfy the expected input / training paradigm of the model\n",
    "X =  X / 127.5 - 1"
   ]
  },
  {
   "cell_type": "code",
   "execution_count": 11,
   "metadata": {},
   "outputs": [],
   "source": [
    "#reshape the vector representations in X to match the requirements of the CNN input\n",
    "X = np.reshape(X,[X.shape[0],28,28,1])\n",
    "X = np.pad(X,((0,0),(2,2),(2,2),(0,0)), 'constant', constant_values = (-1.,))"
   ]
  },
  {
   "cell_type": "code",
   "execution_count": 12,
   "metadata": {
    "colab": {},
    "colab_type": "code",
    "id": "KNjQvbjkW2Pw"
   },
   "outputs": [],
   "source": [
    "# transform numeric class labels to vector indicator for uniformity. assume presence of all classes within the label set\n",
    "I = Y.astype(int) - 1\n",
    "Y = np.zeros([X.shape[0],np.unique(Y).size])\n",
    "Y[np.arange(Y.shape[0]),I] = 1"
   ]
  },
  {
   "cell_type": "code",
   "execution_count": 14,
   "metadata": {},
   "outputs": [
    {
     "name": "stdout",
     "output_type": "stream",
     "text": [
      "Target model test accuracy is: 0.9133\n"
     ]
    }
   ],
   "source": [
    "acc = np.mean(np.argmax(nn.forward(X), axis=1) == np.argmax(Y, axis=1))\n",
    "if not np == numpy: # np=cupy\n",
    "    acc = np.asnumpy(acc)\n",
    "print('Target model test accuracy is: {:0.4f}'.format(acc))"
   ]
  },
  {
   "cell_type": "code",
   "execution_count": 15,
   "metadata": {
    "colab": {},
    "colab_type": "code",
    "id": "0-YvNE-tZScj"
   },
   "outputs": [],
   "source": [
    "#permute data order for demonstration. or not. your choice.\n",
    "I = np.arange(X.shape[0])\n",
    "#I = np.random.permutation(I)"
   ]
  },
  {
   "cell_type": "code",
   "execution_count": 25,
   "metadata": {
    "colab": {},
    "colab_type": "code",
    "id": "h0Almgbcbv_h"
   },
   "outputs": [],
   "source": [
    "#Select a Digit between 5-9\n",
    "clas = 13\n",
    "for i in I:\n",
    "  if np.argmax(Y[i]) == clas:\n",
    "    break\n"
   ]
  },
  {
   "cell_type": "code",
   "execution_count": 28,
   "metadata": {
    "colab": {
     "base_uri": "https://localhost:8080/",
     "height": 355
    },
    "colab_type": "code",
    "id": "PKicSDUvcEpR",
    "outputId": "2ed796ce-d56a-471c-f9e0-2811aa2760b1"
   },
   "outputs": [
    {
     "name": "stdout",
     "output_type": "stream",
     "text": [
      "True label:      0\n",
      "Predicted label: 16 \n",
      "\n",
      "Prediction Score 0-4 [[15.40569105  1.48021922  1.09502527  8.15515517 -4.86575833 -7.02245186\n",
      "  12.51570834  1.79601592 -1.89220682 -2.0831071  -6.93320777 -1.21819345\n",
      "  -5.68363456  0.80650051  4.97601011 -1.01230576 16.08225525 -2.70474437\n",
      "  -1.08167309 -7.78210952  7.98310151 -1.5984444   0.31782527 -5.95660176\n",
      "  -1.4313926  -1.45406907]]\n"
     ]
    }
   ],
   "source": [
    "#Find Relevance using Base network\n",
    "\n",
    "x = X[na,i,:]\n",
    "\n",
    "#forward pass and prediction\n",
    "ypred = nn.forward(x)\n",
    "print('True label:     ', np.argmax(Y[i]))\n",
    "print('Predicted label:', np.argmax(ypred),'\\n')\n",
    "print('Prediction Score 0-4', ypred)\n",
    "\n",
    "#prepare initial relevance to reflect the model's dominant prediction (ie depopulate non-dominant output neurons)\n",
    "mask = np.zeros_like(ypred)\n",
    "mask[:,np.argmax(ypred)] = 1\n",
    "Rinit = ypred*mask\n",
    "\n",
    "R_base = []\n",
    "#compute first layer relevance according to prediction\n",
    "#R = nn.lrp(Rinit)                   #as Eq(56) from DOI: 10.1371/journal.pone.0130140\n",
    "    #as Eq(58) from DOI: 10.1371/journal.pone.0130140\n",
    "#R = nn.lrp(Rinit,'alphabeta',2)    #as Eq(60) from DOI: 10.1371/journal.pone.0130140\n",
    "lrp_type = [\"simple\", \"alphabeta\", \"epsilon\", \"ww\"]\n",
    "lrp_t = [1, 4, 0.01, 1]\n",
    "for k in range(len(lrp_type)):\n",
    "    R_base.append(nn.lrp(Rinit, lrp_type[k], lrp_t[k]))\n",
    "    \n",
    "    \n",
    "\n",
    "\n",
    "#R = nn.lrp(ypred*Y[na,i]) #compute first layer relevance according to the true class label\n",
    "'''\n",
    "yselect = 3\n",
    "yselect = (np.arange(Y.shape[1])[na,:] == yselect)*1.\n",
    "R = nn.lrp(ypred*yselect) #compute first layer relvance for an arbitrarily selected class\n",
    "'''\n",
    "\n",
    "#undo input normalization for digit drawing. get it back to range [0,1] per pixel\n",
    "x = (x+1.)/2.\n",
    "\n",
    "if not np == numpy: # np=cupy\n",
    "    x = np.asnumpy(x)\n",
    "    for k in range(len(lrp_type)):\n",
    "        R_base[k] = np.asnumpy(R_base[k])\n",
    "\n",
    "# print(len(R[0]))\n",
    "#render input and heatmap as rgb images\n",
    "digit = render.digit_to_rgb(x, scaling = 3)\n",
    "hm_base = []\n",
    "for k in range(len(lrp_type)):\n",
    "    hm_base.append(render.hm_to_rgb(R_base[k], X = x, scaling = 3, sigma = 2))\n",
    "#digit_hm = render.save_image([digit,hm],'../heatmap_base'+str(i)+'.png')\n",
    "# data_io.write(R,'../Base/heatmap_base'+str(i)+'.npy')\n",
    "\n",
    "# # display the image as written to file\n",
    "# plt.imshow(hm_base, interpolation = 'none')\n",
    "# plt.axis('off')\n",
    "# plt.show()"
   ]
  },
  {
   "cell_type": "code",
   "execution_count": 29,
   "metadata": {
    "scrolled": true
   },
   "outputs": [
    {
     "data": {
      "image/png": "[encoded data removed]",
      "text/plain": [
       "<Figure size 1080x2880 with 4 Axes>"
      ]
     },
     "metadata": {
      "needs_background": "light"
     },
     "output_type": "display_data"
    }
   ],
   "source": [
    "\n",
    "fig, grid = plt.subplots(1, 4, figsize=(15,40)) \n",
    "\n",
    "\n",
    "for i in range(4):\n",
    "    image = hm_base[i]\n",
    "        \n",
    "            \n",
    "    grid[i].imshow(image)\n",
    "    grid[i].axis('off')\n",
    "#     print(\"-------------------------------------------------\")\n"
   ]
  }
 ],
 "metadata": {
  "accelerator": "GPU",
  "colab": {
   "name": "LRP_demo",
   "provenance": [],
   "version": "0.3.2"
  },
  "kernelspec": {
   "display_name": "Python 3",
   "language": "python",
   "name": "python3"
  },
  "language_info": {
   "codemirror_mode": {
    "name": "ipython",
    "version": 3
   },
   "file_extension": ".py",
   "mimetype": "text/x-python",
   "name": "python",
   "nbconvert_exporter": "python",
   "pygments_lexer": "ipython3",
   "version": "3.7.3"
  }
 },
 "nbformat": 4,
 "nbformat_minor": 1
}
